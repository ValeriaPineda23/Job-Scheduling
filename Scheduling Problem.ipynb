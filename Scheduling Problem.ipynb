{
 "cells": [
  {
   "cell_type": "code",
   "execution_count": 21,
   "id": "223810d4",
   "metadata": {},
   "outputs": [],
   "source": [
    "# Import libraries\n",
    "import math\n",
    "from itertools import combinations"
   ]
  },
  {
   "cell_type": "code",
   "execution_count": 22,
   "id": "5f82aecd",
   "metadata": {},
   "outputs": [],
   "source": [
    "# A is the number reference of the job (the field should be filled with sequenced numbers starting by 1)\n",
    "A = [1   , 2  , 3  , 4  ]\n",
    "# T is the processing time of each job\n",
    "T = [4   , 4  , 5  , 6  ]\n",
    "# D is the deadline in which each job must be completed \n",
    "# (D should always be higher or equal to T)\n",
    "D = [10  , 15 , 5  , 10 ]\n",
    "# P is the profit if the job is completed before its deadline\n",
    "P = [2   , 5  , 3  , 4  ]\n",
    "# n is the number of jobs\n",
    "n = len(A)"
   ]
  },
  {
   "cell_type": "code",
   "execution_count": 23,
   "id": "ae342424",
   "metadata": {},
   "outputs": [],
   "source": [
    "# get the total processing time\n",
    "def Completion(job):\n",
    "    E = 0\n",
    "    for k in job:\n",
    "        E = E + T[k-1]\n",
    "    return E\n"
   ]
  },
  {
   "cell_type": "code",
   "execution_count": 24,
   "id": "e6c2fe9a",
   "metadata": {},
   "outputs": [],
   "source": [
    "# adds the profit of the job if they are completed before their deadline\n",
    "def Profit(all_jobs,completion_time,current_job):\n",
    "    if completion_time>D[current_job[0]-1]:\n",
    "        profit = 0\n",
    "    else:\n",
    "        profit = P[current_job[0]-1]\n",
    "        \n",
    "    return profit"
   ]
  },
  {
   "cell_type": "code",
   "execution_count": 25,
   "id": "6e8c2199",
   "metadata": {},
   "outputs": [],
   "source": [
    "# This function obtains the maximum profit according to the information given of each job\n",
    "def scheduling():\n",
    "    c={}\n",
    "    r={}\n",
    "    p={}\n",
    "    for i in range(n):\n",
    "        # generate all possible combinations of size n with the given jobs\n",
    "        # (i.e., [(1,), (2,), (3,), (4,)], \n",
    "        #        [(1, 2), (1, 3), (1, 4), (2, 3), (2, 4), (3, 4)]\n",
    "        #        [(1, 2, 3), (1, 2, 4), (1, 3, 4), (2, 3, 4)]\n",
    "        #        [(1, 2, 3, 4)])\n",
    "        comb = (list(combinations(A,i+1)))\n",
    "        \n",
    "        # get the total profit of each combination of jobs\n",
    "        for j in comb:\n",
    "            # first get the total processing time of each combination of jobs\n",
    "            c[j]=Completion(j)\n",
    "            \n",
    "            if len(j)==1:\n",
    "                # if the length of the combination is equal to 1 then the profit of this would be equal \n",
    "                # to the job's individual profit (i.e., if j=(1,) then p[j]=2)\n",
    "                p[j]=(P[j[0]-1])\n",
    "            else:\n",
    "                # if the length of the combination is higher than 1, (i.e., j=(1, 2) or j=(1, 2, 4)) this means  \n",
    "                # that we need to evaluate if the processing time of these jobs meets the deadline and add the  \n",
    "                # profit accordingly.\n",
    "            \n",
    "                # create a new set of combinations of size len(j)-1 with the j jobs \n",
    "                # (i.e., if j=(1, 2) then comb2=[(1,), (2,)]\n",
    "                #        if j=(1, 2, 4) then comb2=[(1, 2), (1, 4), (2, 4)])\n",
    "                comb2 = (list(combinations(j,len(j)-1)))\n",
    "                current_profit = []\n",
    "                route = []\n",
    "                \n",
    "                # We are going to obtain the profit when adding each element to each combination k in \n",
    "                # comb2 (i.e., if k = (1, 2) then the job that would be added is 4. Next, we obtain the profit \n",
    "                # when jobs (1, 2) have already been processed. Finally, the profit of processing job 4\n",
    "                # is added considering if the total processing time meets the deadline of not.)\n",
    "                for k in comb2:\n",
    "                    #\n",
    "                    current_job = (list(set(j) - set(k)))\n",
    "                    route.append(current_job[0])\n",
    "                    past_jobs = (list(set(k)))\n",
    "                    past_profit = p[k]\n",
    "                    additional_profit = Profit(j,c[j],current_job)\n",
    "                    current_profit.append(additional_profit+past_profit)\n",
    "                \n",
    "                # We obtain the combination of jobs with maximum profit \n",
    "                max_index = current_profit.index(max(current_profit))\n",
    "                p[j]=current_profit[max_index]\n",
    "                r[j]=route[max_index]\n",
    "                current_profit = []\n",
    "                route = []\n",
    "\n",
    "    return p[tuple(A)],r\n",
    "            \n",
    "            "
   ]
  },
  {
   "cell_type": "code",
   "execution_count": 26,
   "id": "b533d7f5",
   "metadata": {},
   "outputs": [],
   "source": [
    "# get the sequence in which the jobs should be ordered to obtain the maximum profit\n",
    "def job_accomodation(route):\n",
    "    x = A\n",
    "    k = route[tuple(A)]\n",
    "    final_route = [k]\n",
    "    for i in range(len(A)-2):\n",
    "        x = list(filter((k).__ne__, x))\n",
    "        k = route[tuple(x)]\n",
    "        final_route.append(k)\n",
    "    final_route.append(list(set(A) - set(final_route))[0])\n",
    "    return(final_route)"
   ]
  },
  {
   "cell_type": "code",
   "execution_count": 27,
   "id": "5e5251fe",
   "metadata": {
    "scrolled": false
   },
   "outputs": [
    {
     "name": "stdout",
     "output_type": "stream",
     "text": [
      "profit:  11\n",
      "scheduling:  [3, 2, 4, 1]\n"
     ]
    }
   ],
   "source": [
    "max_profit, routes = scheduling()\n",
    "print(\"profit: \",max_profit)\n",
    "print(\"scheduling: \",job_accomodation(routes))"
   ]
  }
 ],
 "metadata": {
  "kernelspec": {
   "display_name": "Python 3",
   "language": "python",
   "name": "python3"
  },
  "language_info": {
   "codemirror_mode": {
    "name": "ipython",
    "version": 3
   },
   "file_extension": ".py",
   "mimetype": "text/x-python",
   "name": "python",
   "nbconvert_exporter": "python",
   "pygments_lexer": "ipython3",
   "version": "3.8.3"
  }
 },
 "nbformat": 4,
 "nbformat_minor": 5
}
